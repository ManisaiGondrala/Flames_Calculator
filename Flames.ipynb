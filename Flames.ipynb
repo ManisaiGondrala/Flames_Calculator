{
 "cells": [
  {
   "cell_type": "code",
   "execution_count": 22,
   "id": "e1e794b6-4732-44fa-8fa5-f007cda453e9",
   "metadata": {},
   "outputs": [
    {
     "name": "stdout",
     "output_type": "stream",
     "text": [
      "Do you want to check?\n",
      "Enter Y/N\n"
     ]
    },
    {
     "name": "stdin",
     "output_type": "stream",
     "text": [
      " y\n"
     ]
    },
    {
     "name": "stdout",
     "output_type": "stream",
     "text": [
      "Enter Name1:\n"
     ]
    },
    {
     "name": "stdin",
     "output_type": "stream",
     "text": [
      " Pushpa\n"
     ]
    },
    {
     "name": "stdout",
     "output_type": "stream",
     "text": [
      "Enter Name2:\n"
     ]
    },
    {
     "name": "stdin",
     "output_type": "stream",
     "text": [
      " srivalli\n"
     ]
    },
    {
     "name": "stdout",
     "output_type": "stream",
     "text": [
      "the relationship between Pushpa and srivalli will end with Love.\n",
      "Do you want to check?\n",
      "Enter Y/N\n"
     ]
    },
    {
     "name": "stdin",
     "output_type": "stream",
     "text": [
      " n\n"
     ]
    },
    {
     "name": "stdout",
     "output_type": "stream",
     "text": [
      "***********EXIT***********\n"
     ]
    }
   ],
   "source": [
    "x=True\n",
    "while x:\n",
    "    print(\"Do you want to check?\")\n",
    "    print(\"Enter Y/N\")\n",
    "    ch=input().strip()\n",
    "    if ch==\"Y\" or ch==\"y\":\n",
    "        print(\"Enter Name1:\")\n",
    "        name1 = input().strip().replace(\" \", '')\n",
    "        n1=name1\n",
    "        name1=name1.lower()\n",
    "        print(\"Enter Name2:\")\n",
    "        name2 = input().strip().replace(\" \", '')\n",
    "        n2=name2\n",
    "        name2=name2.lower()\n",
    "        name1=list(name1)\n",
    "        name2=list(name2)\n",
    "        for char in name1[:]:\n",
    "            if char in name2:\n",
    "                name1.remove(char)\n",
    "                name2.remove(char)\n",
    "        count=len(name1)+len(name2)\n",
    "        if count==0:\n",
    "            print(\"Enter different names!\")\n",
    "            continue\n",
    "        x=[\"F\",\"L\",\"A\",\"M\",\"E\",\"S\"]\n",
    "        while len(x)!=1:\n",
    "            i=count%len(x)\n",
    "            x=x[i::]+x[:i:]\n",
    "            x.remove(x[-1])\n",
    "        if x[0] == \"F\":\n",
    "            print(\"the relationship between\",n1,\"and\",n2,\"will end with Friendship.\")\n",
    "        elif x[0] == \"L\":\n",
    "            print(\"the relationship between\",n1,\"and\",n2,\"will end with Love.\")\n",
    "        elif x[0] == \"A\":\n",
    "            print(\"the relationship between\",n1,\"and\",n2,\"will end with Affection.\")\n",
    "        elif x[0] == \"M\":\n",
    "            print(\"the relationship between\",n1,\"and\",n2,\"will end with Marriage.\")\n",
    "        elif x[0] == \"E\":\n",
    "            print(\"the relationship between\",n1,\"and\",n2,\"will end with Enemy.\")\n",
    "        elif x[0] == \"S\":\n",
    "            print(\"the relationship between\",n1,\"and\",n2,\"will end with Siblings.\")\n",
    "        \n",
    "            \n",
    "        \n",
    "    else:\n",
    "        x=False\n",
    "        print(\"***********EXIT***********\")\n",
    "        \n",
    "        "
   ]
  },
  {
   "cell_type": "code",
   "execution_count": null,
   "id": "93d9d419-d547-420b-9fae-113cab9c11db",
   "metadata": {},
   "outputs": [],
   "source": []
  }
 ],
 "metadata": {
  "kernelspec": {
   "display_name": "Python 3 (ipykernel)",
   "language": "python",
   "name": "python3"
  },
  "language_info": {
   "codemirror_mode": {
    "name": "ipython",
    "version": 3
   },
   "file_extension": ".py",
   "mimetype": "text/x-python",
   "name": "python",
   "nbconvert_exporter": "python",
   "pygments_lexer": "ipython3",
   "version": "3.12.4"
  }
 },
 "nbformat": 4,
 "nbformat_minor": 5
}
